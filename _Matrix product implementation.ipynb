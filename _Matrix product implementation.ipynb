{
 "cells": [
  {
   "cell_type": "markdown",
   "id": "af12b50f",
   "metadata": {},
   "source": [
    "# PROBLEM 1"
   ]
  },
  {
   "cell_type": "markdown",
   "id": "5eb8dfc8",
   "metadata": {},
   "source": [
    "To find the product AB, we multiply corresponding elements of rows in matrix A with columns in matrix B and sum the products.\n",
    "\n",
    "The resulting matrix C (A * B) will be a 3x3 matrix.\n",
    "\n",
    "Let's calculate the elements of matrix C:\n",
    "C[0,0] = (-1 * 0) + (2 * 0) + (3 * 2) = 0 + 0 + 6 = 6\n",
    "\n",
    "C[0,1] = (-1 * 2) + (2 * 2) + (3 * 9) = -2 + 4 + 27 = 29\n",
    "\n",
    "C[0,2] = (-1 * 1) + (2 * -8) + (3 * -1) = -1 - 16 - 3 = -20\n",
    "\n",
    "C[1,0] = (4 * 0) + (-5 * 0) + (6 * 2) = 0 + 0 + 12 = 12\n",
    "\n",
    "C[1,1] = (4 * 2) + (-5 * 2) + (6 * 9) = 8 - 10 + 54 = 52\n",
    "\n",
    "C[1,2] = (4 * 1) + (-5 * -8) + (6 * -1) = 4 + 40 - 6 = 38\n",
    "\n",
    "C[2,0] = (7 * 0) + (8 * 0) + (-9 * 2) = 0 + 0 - 18 = -18\n",
    "\n",
    "C[2,1] = (7 * 2) + (8 * 2) + (-9 * 9) = 14 + 16 - 81 = -51\n",
    "\n",
    "C[2,2] = (7 * 1) + (8 * -8) + (-9 * -1) = 7 - 64 + 9 = -48\n",
    "\n",
    "therefore, the matrix product of matrices A and B (AB) is:\n",
    "    \n",
    "    C = [6   29   -20 ]\n",
    "    \n",
    "        [12   52    38]\n",
    "        \n",
    "        [-18    -51   -48]"
   ]
  },
  {
   "cell_type": "markdown",
   "id": "1e0e8a26",
   "metadata": {},
   "source": [
    "# PROBLEM 2"
   ]
  },
  {
   "cell_type": "code",
   "execution_count": 1,
   "id": "07bbaa70",
   "metadata": {},
   "outputs": [
    {
     "name": "stdout",
     "output_type": "stream",
     "text": [
      "Result using np.matmul():\n",
      "[[  6  29 -20]\n",
      " [ 12  52  38]\n",
      " [-18 -51 -48]]\n",
      "\n",
      "Result using np.dot():\n",
      "[[  6  29 -20]\n",
      " [ 12  52  38]\n",
      " [-18 -51 -48]]\n",
      "\n",
      "Result using @ operator:\n",
      "[[  6  29 -20]\n",
      " [ 12  52  38]\n",
      " [-18 -51 -48]]\n"
     ]
    }
   ],
   "source": [
    "import numpy as np\n",
    "\n",
    "# Define matrices A and B using NumPy arrays\n",
    "A = np.array([[-1, 2, 3],\n",
    "              [4, -5, 6],\n",
    "              [7, 8, -9]])\n",
    "\n",
    "B = np.array([[0, 2, 1],\n",
    "              [0, 2, -8],\n",
    "              [2, 9, -1]])\n",
    "\n",
    "# Method 1: Using np.matmul()\n",
    "result_matmul = np.matmul(A, B)\n",
    "\n",
    "# Method 2: Using np.dot()\n",
    "result_dot = np.dot(A, B)\n",
    "\n",
    "# Method 3: Using the @ operator\n",
    "result_operator = A @ B\n",
    "\n",
    "# Display the results\n",
    "print(\"Result using np.matmul():\")\n",
    "print(result_matmul)\n",
    "\n",
    "print(\"\\nResult using np.dot():\")\n",
    "print(result_dot)\n",
    "\n",
    "print(\"\\nResult using @ operator:\")\n",
    "print(result_operator)"
   ]
  },
  {
   "cell_type": "markdown",
   "id": "440721b7",
   "metadata": {},
   "source": [
    "# PROBLEM 3"
   ]
  },
  {
   "cell_type": "code",
   "execution_count": 5,
   "id": "c61b026a",
   "metadata": {},
   "outputs": [
    {
     "name": "stdout",
     "output_type": "stream",
     "text": [
      "Result of matrix multiplication without using NumPy's functions:\n",
      "[[  6.  29. -20.]\n",
      " [ 12.  52.  38.]\n",
      " [-18. -51. -48.]]\n"
     ]
    }
   ],
   "source": [
    "import numpy as np\n",
    "\n",
    "# Define matrices A and B using NumPy arrays\n",
    "A = np.array([[-1, 2, 3],\n",
    "              [4, -5, 6],\n",
    "              [7, 8, -9]])\n",
    "\n",
    "B = np.array([[0, 2, 1],\n",
    "              [0, 2, -8],\n",
    "              [2, 9, -1]])\n",
    "\n",
    "# Function to perform matrix multiplication\n",
    "def matrix_multiplication(mat1, mat2):\n",
    "    result = np.zeros((mat1.shape[0], mat2.shape[1]))\n",
    "\n",
    "    for i in range(mat1.shape[0]):\n",
    "        for j in range(mat2.shape[1]):\n",
    "            for k in range(mat1.shape[1]):\n",
    "                result[i, j] += mat1[i, k] * mat2[k, j]\n",
    "\n",
    "    return result\n",
    "\n",
    "# Calculate the matrix product without using NumPy's functions\n",
    "result_manual = matrix_multiplication(A, B)\n",
    "\n",
    "# Display the result\n",
    "print(\"Result of matrix multiplication without using NumPy's functions:\")\n",
    "print(result_manual)"
   ]
  },
  {
   "cell_type": "markdown",
   "id": "0f53e259",
   "metadata": {},
   "source": [
    "# PROBLEM 4"
   ]
  },
  {
   "cell_type": "markdown",
   "id": "34675a62",
   "metadata": {},
   "source": [
    "The matrix product DE is defined when the number of columns of D is equal to the number of rows of E, so it cannot be calculated in this example."
   ]
  },
  {
   "cell_type": "markdown",
   "id": "f31b8d91",
   "metadata": {},
   "source": [
    "# PROBLEM 5"
   ]
  },
  {
   "cell_type": "code",
   "execution_count": 7,
   "id": "ae6fa9fd",
   "metadata": {},
   "outputs": [
    {
     "name": "stdout",
     "output_type": "stream",
     "text": [
      "Error: Matrix multiplication cannot be performed due to incompatible shapes.\n",
      "Matrix D shape: (2, 3), Matrix E shape: (2, 3)\n"
     ]
    }
   ],
   "source": [
    "import numpy as np\n",
    "\n",
    "# Define matrices D and E using NumPy arrays\n",
    "D = np.array([[-1, 2, 3],\n",
    "              [4, -5, 6]])\n",
    "\n",
    "E = np.array([[-9, 8, 7],\n",
    "              [6, -5, 4]])\n",
    "\n",
    "# Function to perform matrix multiplication\n",
    "def matrix_multiplication(mat1, mat2):\n",
    "    if mat1.shape[1] != mat2.shape[0]:\n",
    "        print(\"Error: Matrix multiplication cannot be performed due to incompatible shapes.\")\n",
    "        print(f\"Matrix D shape: {mat1.shape}, Matrix E shape: {mat2.shape}\")\n",
    "        return None\n",
    "\n",
    "    result = np.zeros((mat1.shape[0], mat2.shape[1]))\n",
    "\n",
    "    for i in range(mat1.shape[0]):\n",
    "        for j in range(mat2.shape[1]):\n",
    "            for k in range(mat1.shape[1]):\n",
    "                result[i, j] += mat1[i, k] * mat2[k, j]\n",
    "\n",
    "    return result\n",
    "\n",
    "# Calculate the matrix product with check for matrix dimensions\n",
    "result = matrix_multiplication(D, E)\n",
    "\n",
    "# Display the result or error message\n",
    "if result is not None:\n",
    "    print(\"Result of matrix multiplication:\")\n",
    "    print(result)"
   ]
  },
  {
   "cell_type": "markdown",
   "id": "3eeba2ef",
   "metadata": {},
   "source": [
    "# PROBLEM 6 Transposition"
   ]
  },
  {
   "cell_type": "code",
   "execution_count": 6,
   "id": "9fd540ed",
   "metadata": {},
   "outputs": [
    {
     "name": "stdout",
     "output_type": "stream",
     "text": [
      "Transposed matrix:\n",
      "[[  6.  12. -18.]\n",
      " [ 29.  52. -51.]\n",
      " [-20.  38. -48.]]\n",
      "\n",
      "Matrix product of the transposed matrix with itself:\n",
      "[[ 744.   12.  144.]\n",
      " [2702. 1114. -726.]\n",
      " [1942.  -88.  726.]]\n"
     ]
    }
   ],
   "source": [
    "# Transpose the result obtained from manual multiplication\n",
    "transposed_result = np.transpose(result_manual)  # or transposed_result = result_manual.T\n",
    "\n",
    "# Calculate the matrix product of transposed matrix with itself\n",
    "product_of_transposed = np.matmul(transposed_result, transposed_result)\n",
    "\n",
    "# Display the transposed matrix and its matrix product\n",
    "print(\"Transposed matrix:\")\n",
    "print(transposed_result)\n",
    "\n",
    "print(\"\\nMatrix product of the transposed matrix with itself:\")\n",
    "print(product_of_transposed)"
   ]
  },
  {
   "cell_type": "code",
   "execution_count": null,
   "id": "29d9a45a",
   "metadata": {},
   "outputs": [],
   "source": []
  }
 ],
 "metadata": {
  "kernelspec": {
   "display_name": "Python 3 (ipykernel)",
   "language": "python",
   "name": "python3"
  },
  "language_info": {
   "codemirror_mode": {
    "name": "ipython",
    "version": 3
   },
   "file_extension": ".py",
   "mimetype": "text/x-python",
   "name": "python",
   "nbconvert_exporter": "python",
   "pygments_lexer": "ipython3",
   "version": "3.11.5"
  }
 },
 "nbformat": 4,
 "nbformat_minor": 5
}
